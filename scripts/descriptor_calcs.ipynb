{
 "cells": [
  {
   "cell_type": "markdown",
   "metadata": {},
   "source": [
    "#### Tutorial descriptor calculations\n",
    "- List of SMILES strings or list of molecule files\n",
    "- Create a molgen/molconvert function\n",
    "- Store results in a dataframe\n",
    "- Output a dataframe with descriptors\n",
    "\n",
    "DataFrame columns: Identifier (index), SMILES ... all descriptors"
   ]
  },
  {
   "cell_type": "code",
   "execution_count": null,
   "metadata": {},
   "outputs": [],
   "source": [
    "import pandas as pd\n",
    "from rdkit import Chem\n",
    "from glob import glob\n",
    "\n",
    "# INPUT METHODS\n",
    "# 1. CSV file with SMILES strings and identifiers\n",
    "# 2. directory with .sdf files (identifiers are filenames, and will be globbed)\n",
    "# in config file, these could both be in the inputpath field, the program can check if its a directory or file"
   ]
  },
  {
   "cell_type": "markdown",
   "metadata": {},
   "source": [
    "Each descriptor function should take an rdkit mol object, and return a descriptor value.\n",
    "The goal should be to try and calculate as many descriptors with rdkit, then move onto external tools, then handwrite functions\n",
    "\n",
    "To calculate descriptors, I will either need an rdkit mol object\n",
    "or a set of 3d coordinates that will be written to a file and processed by an external tool\n",
    "(in this case, the program should write to a directory and read by all descriptor functions to save reading and writing every time)\n",
    "\n",
    "##### Add in docked descriptors later on?"
   ]
  },
  {
   "cell_type": "code",
   "execution_count": null,
   "metadata": {},
   "outputs": [],
   "source": []
  }
 ],
 "metadata": {
  "language_info": {
   "name": "python"
  },
  "orig_nbformat": 4
 },
 "nbformat": 4,
 "nbformat_minor": 2
}
