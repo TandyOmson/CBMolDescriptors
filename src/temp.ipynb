{
 "cells": [
  {
   "cell_type": "code",
   "execution_count": 1,
   "metadata": {},
   "outputs": [
    {
     "name": "stdout",
     "output_type": "stream",
     "text": [
      "dipole_moment\n",
      "energy\n",
      "hl_gap\n",
      "homo\n",
      "lumo\n",
      "quadrupole_moment\n",
      "repulsion\n",
      "solv_en\n"
     ]
    }
   ],
   "source": [
    "import importlib\n",
    "\n",
    "module = importlib.import_module('xtb_desc')\n",
    "methods = [method for method in dir(module) if callable(getattr(module, method))]\n",
    "for method in methods:\n",
    "    print(method)"
   ]
  },
  {
   "cell_type": "code",
   "execution_count": 3,
   "metadata": {},
   "outputs": [
    {
     "data": {
      "text/plain": [
       "['AtomicProperty',\n",
       " 'Barysz',\n",
       " 'BaryszMatrix',\n",
       " 'BaryszMatrixBase',\n",
       " 'Descriptor',\n",
       " 'Graph',\n",
       " '__all__',\n",
       " '__builtins__',\n",
       " '__cached__',\n",
       " '__doc__',\n",
       " '__file__',\n",
       " '__loader__',\n",
       " '__name__',\n",
       " '__package__',\n",
       " '__spec__',\n",
       " 'division',\n",
       " 'floyd_warshall_numpy',\n",
       " 'get_method',\n",
       " 'get_properties',\n",
       " 'methods',\n",
       " 'np']"
      ]
     },
     "execution_count": 3,
     "metadata": {},
     "output_type": "execute_result"
    }
   ],
   "source": [
    "from mordred import BaryszMatrix\n",
    "dir(BaryszMatrix)"
   ]
  },
  {
   "cell_type": "code",
   "execution_count": 4,
   "metadata": {},
   "outputs": [
    {
     "name": "stdout",
     "output_type": "stream",
     "text": [
      "|   identifier | SMILES                                 | guestmol                                         |   aromatic_ringnum |   asphericity |   atomnum |   double_bondnum |   eccentricity |   heavy_atomnum |   logp |   mol_volume |   mol_weight |   ringnum |   rotatable_bondnum |   single_bondnum |   surface_area |   triple_bondnum | dipole_moment                               |   energy |   hl_gap |     homo |    lumo | quadrupole_moment                           |   repulsion |   solv_en |   polarizability |   balabanj |    bcut |   bertzct |     chi |   walkcount |\n",
      "|-------------:|:---------------------------------------|:-------------------------------------------------|-------------------:|--------------:|----------:|-----------------:|---------------:|----------------:|-------:|-------------:|-------------:|----------:|--------------------:|-----------------:|---------------:|-----------------:|:--------------------------------------------|---------:|---------:|---------:|--------:|:--------------------------------------------|------------:|----------:|-----------------:|-----------:|--------:|----------:|--------:|------------:|\n",
      "|    101803327 | C12(CC3CC(C1)CC(C2)C3)C#Cc1cc(ccc1)C=C | <rdkit.Chem.rdchem.Mol object at 0x7f4a881450d0> |                  1 |      0.676589 |        42 |                1 |       0.992365 |              20 | 4.8975 |       267.96 |      262.172 |         5 |                   1 |               37 |              0 |                1 | <prog_ops.df_item object at 0x7f4a88b159f0> | -34478.5 |  3.37787 | -10.2368 | -6.8532 | <prog_ops.df_item object at 0x7f4a88b16560> |     578.462 |  -1.87075 |          48.0694 |     1.3478 | 12.3694 |    560.67 | 13.5791 |          23 |\n"
     ]
    }
   ],
   "source": [
    "import pandas as pd\n",
    "\n",
    "df = pd.read_pickle(\"/home/spine/DProjects/DDescriptCalc/results/descriptors.pkl\")\n",
    "print(df.to_markdown())"
   ]
  },
  {
   "cell_type": "markdown",
   "metadata": {},
   "source": [
    "|   identifier | SMILES                                 | guestmol                                         |   aromatic_ringnum |   asphericity |   atomnum |   double_bondnum |   eccentricity |   heavy_atomnum |   logp |   mol_volume |   mol_weight |   ringnum |   rotatable_bondnum |   single_bondnum |   surface_area |   triple_bondnum | dipole_moment                               |   energy |   hl_gap |     homo |    lumo | quadrupole_moment                           |   repulsion |   solv_en |   polarizability |   balabanj |    bcut |   bertzct |     chi |   walkcount |\n",
    "|-------------:|:---------------------------------------|:-------------------------------------------------|-------------------:|--------------:|----------:|-----------------:|---------------:|----------------:|-------:|-------------:|-------------:|----------:|--------------------:|-----------------:|---------------:|-----------------:|:--------------------------------------------|---------:|---------:|---------:|--------:|:--------------------------------------------|------------:|----------:|-----------------:|-----------:|--------:|----------:|--------:|------------:|\n",
    "|    101803327 | C12(CC3CC(C1)CC(C2)C3)C#Cc1cc(ccc1)C=C | <rdkit.Chem.rdchem.Mol object at 0x7f4af003c950> |                  1 |      0.676589 |        42 |                1 |       0.992365 |              20 | 4.8975 |       267.96 |      262.172 |         5 |                   1 |               37 |              0 |                1 | <prog_ops.df_item object at 0x7f4a88a623b0> | -34478.5 |  3.37787 | -10.2368 | -6.8532 | <prog_ops.df_item object at 0x7f4a88ac95a0> |     578.462 |  -1.87075 |          48.0694 |     1.3478 | 12.3694 |    560.67 | 13.5791 |          23 |"
   ]
  }
 ],
 "metadata": {
  "kernelspec": {
   "display_name": "Python 3",
   "language": "python",
   "name": "python3"
  },
  "language_info": {
   "codemirror_mode": {
    "name": "ipython",
    "version": 3
   },
   "file_extension": ".py",
   "mimetype": "text/x-python",
   "name": "python",
   "nbconvert_exporter": "python",
   "pygments_lexer": "ipython3",
   "version": "3.10.11"
  },
  "orig_nbformat": 4
 },
 "nbformat": 4,
 "nbformat_minor": 2
}
